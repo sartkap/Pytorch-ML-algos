{
 "cells": [
  {
   "cell_type": "code",
   "execution_count": 1,
   "metadata": {},
   "outputs": [],
   "source": [
    "import matplotlib.pyplot as plt\n",
    "import  numpy as np\n",
    "\n",
    "#plt.plot(x,y)\n"
   ]
  },
  {
   "cell_type": "code",
   "execution_count": 2,
   "metadata": {},
   "outputs": [],
   "source": [
    "import torch\n",
    "import torchvision\n"
   ]
  },
  {
   "cell_type": "code",
   "execution_count": 3,
   "metadata": {},
   "outputs": [],
   "source": [
    "import torch.nn as nn"
   ]
  },
  {
   "cell_type": "code",
   "execution_count": 35,
   "metadata": {},
   "outputs": [],
   "source": [
    "input_size=1 #defines dimension of each training example\n",
    "output_size=1 #defines output dimension of a single input\n",
    "num_epochs=100 #number of iterations\n",
    "alpha=0.01\n",
    "x_train = np.array([[3.3], [4.4], [5.5], [6.71], [6.93], [4.168], \n",
    "                    [9.779], [6.182], [7.59], [2.167], [7.042], \n",
    "[10.791], [5.313], [7.997], [3.1]], dtype=np.float32)\n",
    "\n",
    "y_train = np.array([[1.7], [2.76], [2.09], [3.19], [1.694], [1.573], \n",
    "                    [3.366], [2.596], [2.53], [1.221], [2.827], \n",
    "[3.465], [1.65], [2.904], [1.3]], dtype=np.float32)"
   ]
  },
  {
   "cell_type": "code",
   "execution_count": 5,
   "metadata": {},
   "outputs": [],
   "source": [
    "model=nn.Linear(input_size,output_size) #linear model\n",
    "criterion=nn.MSELoss() # MSELoss computes loss as ((output-targets)**2).mean()\n",
    "optimizer=torch.optim.SGD(model.parameters(),lr=alpha) #optimize the problem according to stochastic gradient descent\n"
   ]
  },
  {
   "cell_type": "code",
   "execution_count": 38,
   "metadata": {},
   "outputs": [
    {
     "name": "stdout",
     "output_type": "stream",
     "text": [
      "Epoch [1/100], Loss: 0.2117\n",
      "Epoch [2/100], Loss: 0.2117\n",
      "Epoch [3/100], Loss: 0.2117\n",
      "Epoch [4/100], Loss: 0.2117\n",
      "Epoch [5/100], Loss: 0.2117\n",
      "Epoch [6/100], Loss: 0.2117\n",
      "Epoch [7/100], Loss: 0.2117\n",
      "Epoch [8/100], Loss: 0.2117\n",
      "Epoch [9/100], Loss: 0.2117\n",
      "Epoch [10/100], Loss: 0.2117\n",
      "Epoch [11/100], Loss: 0.2117\n",
      "Epoch [12/100], Loss: 0.2117\n",
      "Epoch [13/100], Loss: 0.2117\n",
      "Epoch [14/100], Loss: 0.2117\n",
      "Epoch [15/100], Loss: 0.2117\n",
      "Epoch [16/100], Loss: 0.2117\n",
      "Epoch [17/100], Loss: 0.2117\n",
      "Epoch [18/100], Loss: 0.2117\n",
      "Epoch [19/100], Loss: 0.2117\n",
      "Epoch [20/100], Loss: 0.2117\n",
      "Epoch [21/100], Loss: 0.2116\n",
      "Epoch [22/100], Loss: 0.2116\n",
      "Epoch [23/100], Loss: 0.2116\n",
      "Epoch [24/100], Loss: 0.2116\n",
      "Epoch [25/100], Loss: 0.2116\n",
      "Epoch [26/100], Loss: 0.2116\n",
      "Epoch [27/100], Loss: 0.2116\n",
      "Epoch [28/100], Loss: 0.2116\n",
      "Epoch [29/100], Loss: 0.2116\n",
      "Epoch [30/100], Loss: 0.2116\n",
      "Epoch [31/100], Loss: 0.2116\n",
      "Epoch [32/100], Loss: 0.2116\n",
      "Epoch [33/100], Loss: 0.2116\n",
      "Epoch [34/100], Loss: 0.2116\n",
      "Epoch [35/100], Loss: 0.2116\n",
      "Epoch [36/100], Loss: 0.2116\n",
      "Epoch [37/100], Loss: 0.2116\n",
      "Epoch [38/100], Loss: 0.2116\n",
      "Epoch [39/100], Loss: 0.2116\n",
      "Epoch [40/100], Loss: 0.2116\n",
      "Epoch [41/100], Loss: 0.2116\n",
      "Epoch [42/100], Loss: 0.2116\n",
      "Epoch [43/100], Loss: 0.2116\n",
      "Epoch [44/100], Loss: 0.2116\n",
      "Epoch [45/100], Loss: 0.2116\n",
      "Epoch [46/100], Loss: 0.2116\n",
      "Epoch [47/100], Loss: 0.2116\n",
      "Epoch [48/100], Loss: 0.2116\n",
      "Epoch [49/100], Loss: 0.2116\n",
      "Epoch [50/100], Loss: 0.2116\n",
      "Epoch [51/100], Loss: 0.2116\n",
      "Epoch [52/100], Loss: 0.2116\n",
      "Epoch [53/100], Loss: 0.2116\n",
      "Epoch [54/100], Loss: 0.2116\n",
      "Epoch [55/100], Loss: 0.2116\n",
      "Epoch [56/100], Loss: 0.2116\n",
      "Epoch [57/100], Loss: 0.2116\n",
      "Epoch [58/100], Loss: 0.2116\n",
      "Epoch [59/100], Loss: 0.2116\n",
      "Epoch [60/100], Loss: 0.2116\n",
      "Epoch [61/100], Loss: 0.2116\n",
      "Epoch [62/100], Loss: 0.2116\n",
      "Epoch [63/100], Loss: 0.2116\n",
      "Epoch [64/100], Loss: 0.2116\n",
      "Epoch [65/100], Loss: 0.2116\n",
      "Epoch [66/100], Loss: 0.2115\n",
      "Epoch [67/100], Loss: 0.2115\n",
      "Epoch [68/100], Loss: 0.2115\n",
      "Epoch [69/100], Loss: 0.2115\n",
      "Epoch [70/100], Loss: 0.2115\n",
      "Epoch [71/100], Loss: 0.2115\n",
      "Epoch [72/100], Loss: 0.2115\n",
      "Epoch [73/100], Loss: 0.2115\n",
      "Epoch [74/100], Loss: 0.2115\n",
      "Epoch [75/100], Loss: 0.2115\n",
      "Epoch [76/100], Loss: 0.2115\n",
      "Epoch [77/100], Loss: 0.2115\n",
      "Epoch [78/100], Loss: 0.2115\n",
      "Epoch [79/100], Loss: 0.2115\n",
      "Epoch [80/100], Loss: 0.2115\n",
      "Epoch [81/100], Loss: 0.2115\n",
      "Epoch [82/100], Loss: 0.2115\n",
      "Epoch [83/100], Loss: 0.2115\n",
      "Epoch [84/100], Loss: 0.2115\n",
      "Epoch [85/100], Loss: 0.2115\n",
      "Epoch [86/100], Loss: 0.2115\n",
      "Epoch [87/100], Loss: 0.2115\n",
      "Epoch [88/100], Loss: 0.2115\n",
      "Epoch [89/100], Loss: 0.2115\n",
      "Epoch [90/100], Loss: 0.2115\n",
      "Epoch [91/100], Loss: 0.2115\n",
      "Epoch [92/100], Loss: 0.2115\n",
      "Epoch [93/100], Loss: 0.2115\n",
      "Epoch [94/100], Loss: 0.2115\n",
      "Epoch [95/100], Loss: 0.2115\n",
      "Epoch [96/100], Loss: 0.2115\n",
      "Epoch [97/100], Loss: 0.2115\n",
      "Epoch [98/100], Loss: 0.2115\n",
      "Epoch [99/100], Loss: 0.2115\n",
      "Epoch [100/100], Loss: 0.2115\n"
     ]
    }
   ],
   "source": [
    "for epoch in range(num_epochs):\n",
    "    inputs=torch.from_numpy(x_train)#converting to pytorch tensors\n",
    "    targets=torch.from_numpy(y_train)\n",
    "    outputs=model(inputs) \n",
    "    loss=criterion(outputs,targets)\n",
    "    optimizer.zero_grad() #sets all gradients to zero(which is neccessary because pytorch keeps acculmulating gradients)\n",
    "    loss.backward() #computes gradient (actually accumulates gradient that's why previous line has to be written)\n",
    "    optimizer.step() #parameter update\n",
    "    print ('Epoch [{}/{}], Loss: {:.4f}'.format(epoch+1, num_epochs, loss.item()))"
   ]
  },
  {
   "cell_type": "code",
   "execution_count": 44,
   "metadata": {},
   "outputs": [
    {
     "data": {
      "image/png": "[encoded data removed]",
      "text/plain": [
       "<Figure size 432x288 with 1 Axes>"
      ]
     },
     "metadata": {},
     "output_type": "display_data"
    }
   ],
   "source": [
    "predicted = model(torch.from_numpy(x_train)).detach().numpy()#extract the predicted data\n",
    "plt.plot(x_train, y_train,'ro', label='Original data')#to display set of points just add 'ro'/'bo' etc.\n",
    "plt.plot(x_train, predicted, label='Fitted line')\n",
    "plt.legend()\n",
    "plt.show()"
   ]
  },
  {
   "cell_type": "code",
   "execution_count": 33,
   "metadata": {},
   "outputs": [
    {
     "name": "stdout",
     "output_type": "stream",
     "text": [
      "1.2086418867111206\n",
      "None\n",
      "None\n"
     ]
    }
   ],
   "source": []
  }
 ],
 "metadata": {
  "kernelspec": {
   "display_name": "Python 3",
   "language": "python",
   "name": "python3"
  },
  "language_info": {
   "codemirror_mode": {
    "name": "ipython",
    "version": 3
   },
   "file_extension": ".py",
   "mimetype": "text/x-python",
   "name": "python",
   "nbconvert_exporter": "python",
   "pygments_lexer": "ipython3",
   "version": "3.6.7"
  }
 },
 "nbformat": 4,
 "nbformat_minor": 2
}
